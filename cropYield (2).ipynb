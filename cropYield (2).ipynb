{
 "cells": [
  {
   "cell_type": "code",
   "execution_count": 21,
   "id": "da287add-c1a3-44e2-80bf-d9ce093281e2",
   "metadata": {},
   "outputs": [
    {
     "name": "stdout",
     "output_type": "stream",
     "text": [
      "   Year       Region  Temperature  Precipitation  Soil_pH  Irrigation  \\\n",
      "0  2005      Central         20.6            710      6.3         118   \n",
      "1  2005  Rift Valley         20.6            690      6.3         119   \n",
      "2  2005      Eastern         20.3            650      6.3         135   \n",
      "3  2005      Western         20.3            650      6.3         127   \n",
      "4  2005       Nyanza         20.3            670      6.3         148   \n",
      "\n",
      "   Crop_Type  Historical_Yield  \n",
      "0          1               3.1  \n",
      "1          1               3.1  \n",
      "2          1               3.1  \n",
      "3          1               3.1  \n",
      "4          1               3.1  \n"
     ]
    }
   ],
   "source": [
    "# Step 1: Import necessary libraries\n",
    "import pandas as pd\n",
    "import numpy as np\n",
    "from sklearn.model_selection import train_test_split\n",
    "from sklearn.ensemble import RandomForestRegressor\n",
    "from sklearn.metrics import mean_squared_error, r2_score\n",
    "from sklearn.preprocessing import LabelEncoder\n",
    "\n",
    "# Step 2: Load the data\n",
    "file_path = 'sample_agriculture_data.csv'  # Path to the CSV file\n",
    "data = pd.read_csv(file_path)\n",
    "\n",
    "# Display the first few rows\n",
    "print(data.head())"
   ]
  },
  {
   "cell_type": "code",
   "execution_count": 26,
   "id": "4dd2e89d-e34b-4dc2-89fe-fc47edaadfca",
   "metadata": {},
   "outputs": [
    {
     "name": "stdout",
     "output_type": "stream",
     "text": [
      "   Region\n",
      "0       0\n",
      "1       4\n",
      "2       1\n",
      "3       5\n",
      "4       3\n"
     ]
    }
   ],
   "source": [
    "label_encoder = LabelEncoder()\n",
    "data['Region'] = label_encoder.fit_transform(data['Region'])\n",
    "\n",
    "# Check the transformed data\n",
    "print(data[['Region']].head())"
   ]
  },
  {
   "cell_type": "code",
   "execution_count": 27,
   "id": "b8da24e7-8fa3-4037-b4d9-2ec29f8b2393",
   "metadata": {},
   "outputs": [
    {
     "name": "stdout",
     "output_type": "stream",
     "text": [
      "   Year  Region  Temperature  Precipitation  Soil_pH  Irrigation  Crop_Type\n",
      "0  2005       0         20.6            710      6.3         118          1\n",
      "1  2005       4         20.6            690      6.3         119          1\n",
      "2  2005       1         20.3            650      6.3         135          1\n",
      "3  2005       5         20.3            650      6.3         127          1\n",
      "4  2005       3         20.3            670      6.3         148          1\n",
      "0    3.1\n",
      "1    3.1\n",
      "2    3.1\n",
      "3    3.1\n",
      "4    3.1\n",
      "Name: Historical_Yield, dtype: float64\n"
     ]
    }
   ],
   "source": [
    "X = data[['Year', 'Region', 'Temperature', 'Precipitation', 'Soil_pH', 'Irrigation', 'Crop_Type']]\n",
    "y = data['Historical_Yield']\n",
    "\n",
    "# Display the feature set and target\n",
    "print(X.head())\n",
    "print(y.head())"
   ]
  },
  {
   "cell_type": "code",
   "execution_count": 28,
   "id": "2fb005dc-2844-445e-90f0-696eb3ae9fc0",
   "metadata": {},
   "outputs": [
    {
     "name": "stdout",
     "output_type": "stream",
     "text": [
      "Training set size: (91, 7)\n",
      "Testing set size: (23, 7)\n"
     ]
    }
   ],
   "source": [
    "# Step 5: Split the data into training and testing sets\n",
    "X_train, X_test, y_train, y_test = train_test_split(X, y, test_size=0.2, random_state=42)\n",
    "\n",
    "# Display the sizes of the splits\n",
    "print(\"Training set size:\", X_train.shape)\n",
    "print(\"Testing set size:\", X_test.shape)"
   ]
  },
  {
   "cell_type": "code",
   "execution_count": 29,
   "id": "76c0955a-6e31-45d4-8119-b478723a7b67",
   "metadata": {},
   "outputs": [
    {
     "name": "stdout",
     "output_type": "stream",
     "text": [
      "Model trained successfully!\n"
     ]
    }
   ],
   "source": [
    "# Step 6: Train the model (using Linear Regression)\n",
    "model = RandomForestRegressor(n_estimators=100, random_state=42)\n",
    "model.fit(X_train, y_train)\n",
    "\n",
    "# Confirm model training\n",
    "print(\"Model trained successfully!\")\n"
   ]
  },
  {
   "cell_type": "code",
   "execution_count": 10,
   "id": "3be4b85d-0422-4281-8d76-3b2ad80cc17b",
   "metadata": {},
   "outputs": [
    {
     "name": "stdout",
     "output_type": "stream",
     "text": [
      "Predicted Values (y_pred):\n",
      " [3.24464746 3.31384847 3.46810816 3.71491724] \n",
      "\n"
     ]
    }
   ],
   "source": [
    "# Step 7: Make predictions\n",
    "y_pred = model.predict(X_test)\n",
    "\n",
    "# Output the first few predictions\n",
    "print(\"Predicted Values (y_pred):\\n\", y_pred[:5], \"\\n\")"
   ]
  },
  {
   "cell_type": "code",
   "execution_count": 31,
   "id": "062eb21a-80ad-494e-aab8-ff13c095a151",
   "metadata": {},
   "outputs": [
    {
     "name": "stdout",
     "output_type": "stream",
     "text": [
      "R² Score: 0.7828827380952349\n",
      "Mean Squared Error: 0.01241139130434801\n"
     ]
    }
   ],
   "source": [
    "# Step 8: Evaluate the model\n",
    "y_pred = model.predict(X_test)\n",
    "\n",
    "# Calculate and display evaluation metrics\n",
    "print(\"R² Score:\", r2_score(y_test, y_pred))\n",
    "print(\"Mean Squared Error:\", mean_squared_error(y_test, y_pred))\n"
   ]
  },
  {
   "cell_type": "code",
   "execution_count": 35,
   "id": "dda4d925-cdec-4c27-b345-fdb154eace33",
   "metadata": {},
   "outputs": [
    {
     "name": "stdout",
     "output_type": "stream",
     "text": [
      "    Year  Region  Temperature  Precipitation  Soil_pH  Irrigation  Crop_Type  \\\n",
      "0   2024       0         22.5            700      6.5         150          1   \n",
      "1   2024       1         22.5            700      6.5         150          1   \n",
      "2   2024       2         22.5            700      6.5         150          1   \n",
      "3   2024       3         22.5            700      6.5         150          1   \n",
      "4   2024       4         22.5            700      6.5         150          1   \n",
      "5   2024       5         22.5            700      6.5         150          1   \n",
      "6   2025       0         22.5            700      6.5         150          1   \n",
      "7   2025       1         22.5            700      6.5         150          1   \n",
      "8   2025       2         22.5            700      6.5         150          1   \n",
      "9   2025       3         22.5            700      6.5         150          1   \n",
      "10  2025       4         22.5            700      6.5         150          1   \n",
      "11  2025       5         22.5            700      6.5         150          1   \n",
      "\n",
      "    Predicted_Yield  \n",
      "0             3.040  \n",
      "1             3.037  \n",
      "2             3.040  \n",
      "3             3.046  \n",
      "4             3.043  \n",
      "5             3.040  \n",
      "6             3.040  \n",
      "7             3.037  \n",
      "8             3.040  \n",
      "9             3.046  \n",
      "10            3.043  \n",
      "11            3.040  \n"
     ]
    }
   ],
   "source": [
    "# Step 9: Prepare the input data for 2024 and 2025\n",
    "future_years = pd.DataFrame({\n",
    "    'Year': [2024, 2024, 2024, 2024, 2024, 2024, 2025, 2025, 2025, 2025, 2025, 2025],\n",
    "    'Region': list(range(6)) * 2, \n",
    "    'Temperature': [22.5] * 12, \n",
    "    'Precipitation': [700] * 12, \n",
    "    'Soil_pH': [6.5] * 12,  \n",
    "    'Irrigation': [150] * 12, \n",
    "    'Crop_Type': [1] * 12 \n",
    "})\n",
    "\n",
    "# Predict yields\n",
    "future_predictions = model.predict(future_years)\n",
    "future_years['Predicted_Yield'] = future_predictions\n",
    "\n",
    "print(future_years)\n"
   ]
  },
  {
   "cell_type": "code",
   "execution_count": 36,
   "id": "6ed50a18-aa44-4d9b-b848-e870af79cca8",
   "metadata": {},
   "outputs": [
    {
     "name": "stdout",
     "output_type": "stream",
     "text": [
      "    Year  Region  Temperature  Precipitation  Soil_pH  Irrigation  Crop_Type  \\\n",
      "0   2024       0         22.5            700      6.5         150          1   \n",
      "1   2024       1         22.5            700      6.5         150          1   \n",
      "2   2024       2         22.5            700      6.5         150          1   \n",
      "3   2024       3         22.5            700      6.5         150          1   \n",
      "4   2024       4         22.5            700      6.5         150          1   \n",
      "5   2024       5         22.5            700      6.5         150          1   \n",
      "6   2025       0         22.5            700      6.5         150          1   \n",
      "7   2025       1         22.5            700      6.5         150          1   \n",
      "8   2025       2         22.5            700      6.5         150          1   \n",
      "9   2025       3         22.5            700      6.5         150          1   \n",
      "10  2025       4         22.5            700      6.5         150          1   \n",
      "11  2025       5         22.5            700      6.5         150          1   \n",
      "\n",
      "    Predicted_Yield  \n",
      "0             3.040  \n",
      "1             3.037  \n",
      "2             3.040  \n",
      "3             3.046  \n",
      "4             3.043  \n",
      "5             3.040  \n",
      "6             3.040  \n",
      "7             3.037  \n",
      "8             3.040  \n",
      "9             3.046  \n",
      "10            3.043  \n",
      "11            3.040  \n"
     ]
    }
   ],
   "source": [
    "# Decode the Region back to its original names\n",
    "future_years['Region'] = label_encoder.inverse_transform(future_years['Region'])\n",
    "\n",
    "# Display the final DataFrame\n",
    "print(future_years)\n"
   ]
  },
  {
   "cell_type": "code",
   "execution_count": null,
   "id": "991a8d1b-fb7a-4b39-bf9c-73923ee74383",
   "metadata": {},
   "outputs": [],
   "source": []
  },
  {
   "cell_type": "code",
   "execution_count": null,
   "id": "45a3d9a3-2ae7-404b-a04f-8014461f40e4",
   "metadata": {},
   "outputs": [],
   "source": []
  },
  {
   "cell_type": "code",
   "execution_count": null,
   "id": "8f009c37-a1b7-4dc6-bb20-5b95c46877e2",
   "metadata": {},
   "outputs": [],
   "source": []
  }
 ],
 "metadata": {
  "kernelspec": {
   "display_name": "Python 3 (ipykernel)",
   "language": "python",
   "name": "python3"
  },
  "language_info": {
   "codemirror_mode": {
    "name": "ipython",
    "version": 3
   },
   "file_extension": ".py",
   "mimetype": "text/x-python",
   "name": "python",
   "nbconvert_exporter": "python",
   "pygments_lexer": "ipython3",
   "version": "3.11.7"
  }
 },
 "nbformat": 4,
 "nbformat_minor": 5
}
